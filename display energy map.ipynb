{
 "cells": [
  {
   "cell_type": "markdown",
   "metadata": {},
   "source": [
    "### Display energy map"
   ]
  },
  {
   "cell_type": "code",
   "execution_count": 1,
   "metadata": {},
   "outputs": [],
   "source": [
    "import os\n",
    "import numpy as np\n",
    "import cv2"
   ]
  },
  {
   "cell_type": "code",
   "execution_count": 3,
   "metadata": {
    "scrolled": true
   },
   "outputs": [],
   "source": [
    "\n",
    "# define a function to get the energy map usihg L1 norm\n",
    "def get_energy_map_L1(img):\n",
    "    # convert to a grayscale image if it's a color image\n",
    "    if len(img.shape) == 3:\n",
    "        img = cv2.cvtColor(img, cv2.COLOR_BGR2GRAY)\n",
    "    # make the datatype as float64 for calculation\n",
    "    img = img.astype(np.float64)\n",
    "    # use the sobel filter for edge detection in both x and y directions, add some border\n",
    "    gradient_x = cv2.Sobel(img, cv2.CV_64F, 1, 0, borderType=cv2.BORDER_CONSTANT)\n",
    "    gradient_y = cv2.Sobel(img, cv2.CV_64F, 0, 1, borderType=cv2.BORDER_CONSTANT)\n",
    "\n",
    "    # add the absolute values of gradient_x and gradient_y\n",
    "    energy_map_L1 = np.abs(gradient_x) + np.abs(gradient_y)\n",
    "\n",
    "    return energy_map_L1\n",
    "\n",
    "\n",
    "# define a function to get the energy map usihg L2 norm\n",
    "def get_energy_map_L2(img):\n",
    "    # convert to a grayscale image if it's a color image\n",
    "    if len(img.shape) == 3:\n",
    "        img = cv2.cvtColor(img, cv2.COLOR_BGR2GRAY)\n",
    "    # make the datatype as float64 for calculation\n",
    "    img = img.astype(np.float64)\n",
    "    # use the sobel filter for edge detection in both x and y directions, add some border\n",
    "    gradient_x = cv2.Sobel(img, cv2.CV_64F, 1, 0, borderType=cv2.BORDER_CONSTANT)\n",
    "    gradient_y = cv2.Sobel(img, cv2.CV_64F, 0, 1, borderType=cv2.BORDER_CONSTANT)\n",
    "\n",
    "    # add the absolute values of gradient_x and gradient_y\n",
    "    energy_map_L2 = np.sqrt(gradient_x ** 2 + gradient_y ** 2)\n",
    "\n",
    "    return energy_map_L2\n",
    "\n",
    "\n",
    "def visualize_energy_map(energy_map):\n",
    "    # normalize the energy map for display purpose\n",
    "    energy_map_vis = (energy_map/np.max(energy_map)*255).astype(np.uint8)\n",
    "    return energy_map_vis\n",
    "\n",
    "def main():\n",
    "    # read in image \n",
    "    source_dir = '.\\source'\n",
    "    dolphin = os.path.join(source_dir, 'dolphin.png')\n",
    "    img = cv2.imread(dolphin, 1)\n",
    "    \n",
    "    # calculate the energy map\n",
    "    energy_map_L1 = get_energy_map_L1(img)\n",
    "    energy_map_L2 = get_energy_map_L2(img)\n",
    "    \n",
    "    \n",
    "    energy_map_vis_L1 = visualize_energy_map(energy_map_L1)\n",
    "    energy_map_vis_L2 = visualize_energy_map(energy_map_L2)\n",
    "    \n",
    "    # display the image\n",
    "    cv2.imshow('image', img.astype(np.uint8))\n",
    "    cv2.imshow('energy_map_L1', energy_map_vis_L1)\n",
    "    cv2.imshow('energy_map_L2', energy_map_vis_L2)\n",
    "    \n",
    "    # if push 'Esc', destroy the display\n",
    "    k = cv2.waitKey(0)\n",
    "\n",
    "    if k == 27:\n",
    "        cv2.destroyAllWindows()\n",
    "    \n",
    "    # if push 's', save the image\n",
    "    elif k == ord('s'):\n",
    "        \n",
    "        # define the location to save the energy map\n",
    "        out_dir = '.\\output'\n",
    "        \n",
    "        # make the directory if not exists\n",
    "        if not os.path.exists(out_dir):\n",
    "            os.makedirs(out_dir)\n",
    "\n",
    "        out_energy_map_L1 = os.path.join(out_dir, 'dolphin_energy_map_L1.png')\n",
    "        out_energy_map_L2 = os.path.join(out_dir, 'dolphin_energy_map_L2.png')\n",
    "        # write the energy map and destroy the window\n",
    "        cv2.imwrite(out_energy_map_L1, energy_map_vis_L1)\n",
    "        cv2.imwrite(out_energy_map_L2, energy_map_vis_L2)\n",
    "        cv2.destroyAllWindows()"
   ]
  },
  {
   "cell_type": "code",
   "execution_count": 4,
   "metadata": {},
   "outputs": [],
   "source": [
    "if __name__ == '__main__':\n",
    "    main()"
   ]
  }
 ],
 "metadata": {
  "kernelspec": {
   "display_name": "Python 3",
   "language": "python",
   "name": "python3"
  },
  "language_info": {
   "codemirror_mode": {
    "name": "ipython",
    "version": 3
   },
   "file_extension": ".py",
   "mimetype": "text/x-python",
   "name": "python",
   "nbconvert_exporter": "python",
   "pygments_lexer": "ipython3",
   "version": "3.6.10"
  }
 },
 "nbformat": 4,
 "nbformat_minor": 4
}
